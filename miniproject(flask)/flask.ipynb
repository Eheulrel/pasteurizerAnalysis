{
 "cells": [
  {
   "cell_type": "code",
   "execution_count": 8,
   "id": "0b8307ef-5f14-465f-b733-93fc6db73f32",
   "metadata": {
    "tags": []
   },
   "outputs": [
    {
     "name": "stdout",
     "output_type": "stream",
     "text": [
      "Dash is running on http://127.0.0.1:8050/\n",
      "\n",
      "Dash is running on http://127.0.0.1:8050/\n",
      "\n",
      "Dash is running on http://127.0.0.1:8050/\n",
      "\n",
      "Dash is running on http://127.0.0.1:8050/\n",
      "\n",
      "Dash is running on http://127.0.0.1:8050/\n",
      "\n",
      "Dash is running on http://127.0.0.1:8050/\n",
      "\n",
      "Dash is running on http://127.0.0.1:8050/\n",
      "\n",
      " * Serving Flask app \"__main__\" (lazy loading)\n",
      " * Environment: production\n",
      "   WARNING: This is a development server. Do not use it in a production deployment.\n",
      "   Use a production WSGI server instead.\n",
      " * Debug mode: on\n"
     ]
    }
   ],
   "source": [
    "import dash\n",
    "import dash_html_components as html\n",
    "\n",
    "app = dash.Dash(__name__)\n",
    "app.layout = html.H1('hello dash')\n",
    "\n",
    "if __name__ == '__main__':\n",
    "    app.run_server(debug=True, use_reloader=False)"
   ]
  },
  {
   "cell_type": "code",
   "execution_count": null,
   "id": "056ad48d-0d3d-4a0d-996a-797e8a13d54d",
   "metadata": {
    "collapsed": true,
    "jupyter": {
     "outputs_hidden": true
    },
    "tags": []
   },
   "outputs": [],
   "source": []
  },
  {
   "cell_type": "code",
   "execution_count": 11,
   "id": "ba692bd5-6e42-44cb-a5ad-a973c77d8722",
   "metadata": {},
   "outputs": [
    {
     "name": "stdout",
     "output_type": "stream",
     "text": [
      " * Serving Flask app \"__main__\" (lazy loading)\n",
      " * Environment: production\n",
      "   WARNING: This is a development server. Do not use it in a production deployment.\n",
      "   Use a production WSGI server instead.\n",
      " * Debug mode: on\n"
     ]
    }
   ],
   "source": [
    "from flask import Flask, send_file, render_template, make_response\n",
    "\n",
    "from io import BytesIO, StringIO\n",
    "import numpy as np \n",
    "\n",
    "## remove cache \n",
    "from functools import wraps, update_wrapper\n",
    "from datetime import datetime\n",
    "\n",
    "def nocache(view):\n",
    "    @wraps(view)\n",
    "    def no_cache(*args, **kwargs):\n",
    "    response = make_response(view(*args, **kwargs))\n",
    "    response.headers['Last-Modified'] = datetime.now()\n",
    "    response.headers['Cache-Control'] = 'no-store, no-cache, must-revalidate, post-check=0, pre-check=0, max-age=0'\n",
    "    response.headers['Pragma'] = 'no-cache'\n",
    "    response.headers['Expires'] = '-1'\n",
    "    return response      \n",
    "  return update_wrapper(no_cache, view)\n",
    "###############\n",
    "\n",
    "app = Flask(__name__, static_url_path='/static')\n",
    "\n",
    "@app.route('/normal/<m_v>')\n",
    "@nocache\n",
    "def normal(m_v):\n",
    "    m, v = m_v.split(\"_\")\n",
    "    m, v = int(m), int(v)\n",
    "    return render_template(\"random_gen.html\", mean=m, var=v, width=800, height=600)\n",
    "\n",
    "\n",
    "@app.route('/fig/<int:mean>_<int:var>')\n",
    "@nocache\n",
    "def fig(mean, var):\n",
    "    plt.figure(figsize=(4, 3))\n",
    "    xs = np.random.normal(mean, var, 100)\n",
    "    ys = np.random.normal(mean, var, 100)\n",
    "    plt.scatter(xs, ys, s=100, marker='h', color='red', alpha=0.3)\n",
    "    \"\"\"\n",
    "    file로 저장하는 것이 아니라 binary object에 저장해서 그대로 file을 넘겨준다고 생각하면 됨\n",
    "    \"\"\"\n",
    "    img = BytesIO()\n",
    "    plt.savefig(img, format='png', dpi=300)\n",
    "    img.seek(0)## object를 읽었기 때문에 처음으로 돌아가줌\n",
    "    return send_file(img, mimetype='image/png')\n",
    "  # plt.savefig(img, format='svg')\n",
    "  # return send_file(img, mimetype='image/svg')\n",
    "\n",
    "if __name__ == '__main__':\n",
    "    app.run(debug=True)"
   ]
  }
 ],
 "metadata": {
  "kernelspec": {
   "display_name": "Python 3",
   "language": "python",
   "name": "python3"
  },
  "language_info": {
   "codemirror_mode": {
    "name": "ipython",
    "version": 3
   },
   "file_extension": ".py",
   "mimetype": "text/x-python",
   "name": "python",
   "nbconvert_exporter": "python",
   "pygments_lexer": "ipython3",
   "version": "3.8.8"
  }
 },
 "nbformat": 4,
 "nbformat_minor": 5
}
