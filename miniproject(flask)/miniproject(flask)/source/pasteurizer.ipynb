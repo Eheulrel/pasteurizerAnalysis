{
 "cells": [
  {
   "cell_type": "markdown",
   "metadata": {},
   "source": [
    "# 1. 라이브러리 / 데이터 불러오기\n",
    "\n",
    "## 1-1. 라이브러리 불러오기"
   ]
  },
  {
   "cell_type": "code",
   "execution_count": 1,
   "metadata": {
    "ExecuteTime": {
     "end_time": "2020-12-18T09:31:20.340921Z",
     "start_time": "2020-12-18T09:31:00.881873Z"
    }
   },
   "outputs": [],
   "source": [
    "import matplotlib.pyplot as plt\n",
    "from sklearn.model_selection import train_test_split\n",
    "from sklearn.tree import DecisionTreeClassifier\n",
    "from sklearn import tree\n",
    "import graphviz\n",
    "import seaborn as sns\n",
    "from IPython.display import Image\n",
    "import pydotplus\n",
    "import pandas as pd\n",
    "import numpy as np\n",
    "import os"
   ]
  },
  {
   "cell_type": "markdown",
   "metadata": {},
   "source": [
    "필요한 라이브러리를 임포트한다.\n",
    "\n",
    "에러가 날 경우\n",
    "\n",
    "!pip install 패키지명\n",
    "\n",
    "을 입력하여 설치하도록 한다.\n"
   ]
  },
  {
   "cell_type": "markdown",
   "metadata": {},
   "source": [
    "### *패키지 설치 오류시에는 아래의 명령을 별도로 실행하여 패키지를 설치하세요\n",
    "\n",
    "!pip install matplotlib  \n",
    "!pip install scikit-learn  \n",
    "!pip install graphviz  \n",
    "!pip install seaborn  \n",
    "!pip install IPython  \n",
    "!pip install pydotplus  \n",
    "!pip install pandas  \n",
    "!pip install numpy"
   ]
  },
  {
   "cell_type": "markdown",
   "metadata": {},
   "source": [
    "##  1-2. 데이터셋 불러오기\n"
   ]
  },
  {
   "cell_type": "code",
   "execution_count": 2,
   "metadata": {
    "ExecuteTime": {
     "end_time": "2020-12-18T09:31:23.898915Z",
     "start_time": "2020-12-18T09:31:23.720877Z"
    }
   },
   "outputs": [],
   "source": [
    "path = \"F:/impix/data/\"\n",
    "os.chdir(path)\n",
    "\n",
    "df = pd.read_csv(\"pasteurizer.csv\")"
   ]
  },
  {
   "cell_type": "markdown",
   "metadata": {},
   "source": [
    "pd.read_csv(“데이터파일_경로명”)을 통해 csv 형태의 데이터를 판다스(pandas)의 DataFrame으로 읽어 들인다.  \n",
    "이 예제에서는 csv 형태이기 때문에 read_csv()를 사용하였지만, excel, csv, hdf5 형식인 데이터도 불러올 수 있다.  \n",
    "이런 형식일 경우에는 read_excel(), read_csv(), read_hdf()를 사용하면 된다.\n"
   ]
  },
  {
   "cell_type": "markdown",
   "metadata": {},
   "source": [
    "## 1-3. 데이터 확인"
   ]
  },
  {
   "cell_type": "code",
   "execution_count": 3,
   "metadata": {
    "ExecuteTime": {
     "end_time": "2020-12-18T09:31:26.050874Z",
     "start_time": "2020-12-18T09:31:25.994874Z"
    },
    "scrolled": true
   },
   "outputs": [
    {
     "data": {
      "text/html": [
       "<div>\n",
       "<style scoped>\n",
       "    .dataframe tbody tr th:only-of-type {\n",
       "        vertical-align: middle;\n",
       "    }\n",
       "\n",
       "    .dataframe tbody tr th {\n",
       "        vertical-align: top;\n",
       "    }\n",
       "\n",
       "    .dataframe thead th {\n",
       "        text-align: right;\n",
       "    }\n",
       "</style>\n",
       "<table border=\"1\" class=\"dataframe\">\n",
       "  <thead>\n",
       "    <tr style=\"text-align: right;\">\n",
       "      <th></th>\n",
       "      <th>STD_DT</th>\n",
       "      <th>MIXA_PASTEUR_STATE</th>\n",
       "      <th>MIXB_PASTEUR_STATE</th>\n",
       "      <th>MIXA_PASTEUR_TEMP</th>\n",
       "      <th>MIXB_PASTEUR_TEMP</th>\n",
       "      <th>INSP</th>\n",
       "    </tr>\n",
       "  </thead>\n",
       "  <tbody>\n",
       "    <tr>\n",
       "      <th>0</th>\n",
       "      <td>2020-03-04 6:00</td>\n",
       "      <td>1.0</td>\n",
       "      <td>1.0</td>\n",
       "      <td>551.0</td>\n",
       "      <td>524.0</td>\n",
       "      <td>OK</td>\n",
       "    </tr>\n",
       "    <tr>\n",
       "      <th>1</th>\n",
       "      <td>2020-03-04 6:30</td>\n",
       "      <td>1.0</td>\n",
       "      <td>1.0</td>\n",
       "      <td>584.0</td>\n",
       "      <td>536.0</td>\n",
       "      <td>OK</td>\n",
       "    </tr>\n",
       "    <tr>\n",
       "      <th>2</th>\n",
       "      <td>2020-03-04 7:00</td>\n",
       "      <td>1.0</td>\n",
       "      <td>1.0</td>\n",
       "      <td>584.0</td>\n",
       "      <td>536.0</td>\n",
       "      <td>OK</td>\n",
       "    </tr>\n",
       "    <tr>\n",
       "      <th>3</th>\n",
       "      <td>2020-03-04 7:30</td>\n",
       "      <td>1.0</td>\n",
       "      <td>1.0</td>\n",
       "      <td>585.0</td>\n",
       "      <td>536.0</td>\n",
       "      <td>OK</td>\n",
       "    </tr>\n",
       "    <tr>\n",
       "      <th>4</th>\n",
       "      <td>2020-03-04 8:00</td>\n",
       "      <td>1.0</td>\n",
       "      <td>1.0</td>\n",
       "      <td>585.0</td>\n",
       "      <td>536.0</td>\n",
       "      <td>OK</td>\n",
       "    </tr>\n",
       "    <tr>\n",
       "      <th>...</th>\n",
       "      <td>...</td>\n",
       "      <td>...</td>\n",
       "      <td>...</td>\n",
       "      <td>...</td>\n",
       "      <td>...</td>\n",
       "      <td>...</td>\n",
       "    </tr>\n",
       "    <tr>\n",
       "      <th>210789</th>\n",
       "      <td>2020-11-11 18:34</td>\n",
       "      <td>NaN</td>\n",
       "      <td>NaN</td>\n",
       "      <td>586.0</td>\n",
       "      <td>566.0</td>\n",
       "      <td>OK</td>\n",
       "    </tr>\n",
       "    <tr>\n",
       "      <th>210790</th>\n",
       "      <td>2020-11-11 18:35</td>\n",
       "      <td>NaN</td>\n",
       "      <td>NaN</td>\n",
       "      <td>582.0</td>\n",
       "      <td>569.0</td>\n",
       "      <td>OK</td>\n",
       "    </tr>\n",
       "    <tr>\n",
       "      <th>210791</th>\n",
       "      <td>2020-11-11 18:36</td>\n",
       "      <td>NaN</td>\n",
       "      <td>NaN</td>\n",
       "      <td>577.0</td>\n",
       "      <td>572.0</td>\n",
       "      <td>OK</td>\n",
       "    </tr>\n",
       "    <tr>\n",
       "      <th>210792</th>\n",
       "      <td>2020-11-11 18:37</td>\n",
       "      <td>NaN</td>\n",
       "      <td>NaN</td>\n",
       "      <td>572.0</td>\n",
       "      <td>575.0</td>\n",
       "      <td>OK</td>\n",
       "    </tr>\n",
       "    <tr>\n",
       "      <th>210793</th>\n",
       "      <td>2020-11-11 18:38</td>\n",
       "      <td>NaN</td>\n",
       "      <td>NaN</td>\n",
       "      <td>568.0</td>\n",
       "      <td>576.0</td>\n",
       "      <td>OK</td>\n",
       "    </tr>\n",
       "  </tbody>\n",
       "</table>\n",
       "<p>210794 rows × 6 columns</p>\n",
       "</div>"
      ],
      "text/plain": [
       "                  STD_DT  MIXA_PASTEUR_STATE  MIXB_PASTEUR_STATE  \\\n",
       "0        2020-03-04 6:00                 1.0                 1.0   \n",
       "1        2020-03-04 6:30                 1.0                 1.0   \n",
       "2        2020-03-04 7:00                 1.0                 1.0   \n",
       "3        2020-03-04 7:30                 1.0                 1.0   \n",
       "4        2020-03-04 8:00                 1.0                 1.0   \n",
       "...                  ...                 ...                 ...   \n",
       "210789  2020-11-11 18:34                 NaN                 NaN   \n",
       "210790  2020-11-11 18:35                 NaN                 NaN   \n",
       "210791  2020-11-11 18:36                 NaN                 NaN   \n",
       "210792  2020-11-11 18:37                 NaN                 NaN   \n",
       "210793  2020-11-11 18:38                 NaN                 NaN   \n",
       "\n",
       "        MIXA_PASTEUR_TEMP  MIXB_PASTEUR_TEMP INSP  \n",
       "0                   551.0              524.0   OK  \n",
       "1                   584.0              536.0   OK  \n",
       "2                   584.0              536.0   OK  \n",
       "3                   585.0              536.0   OK  \n",
       "4                   585.0              536.0   OK  \n",
       "...                   ...                ...  ...  \n",
       "210789              586.0              566.0   OK  \n",
       "210790              582.0              569.0   OK  \n",
       "210791              577.0              572.0   OK  \n",
       "210792              572.0              575.0   OK  \n",
       "210793              568.0              576.0   OK  \n",
       "\n",
       "[210794 rows x 6 columns]"
      ]
     },
     "execution_count": 3,
     "metadata": {},
     "output_type": "execute_result"
    }
   ],
   "source": [
    "df"
   ]
  },
  {
   "cell_type": "markdown",
   "metadata": {},
   "source": [
    "불러온 데이터프레임의 변수 df를 입력하면 해당 내용을 확인해 볼 수 있다.  \n",
    "데이터는 총 6개의 컬럼으로 구성되어져 있고, 총 210,794개의 행으로 구성된 것을 확인할 수 있다."
   ]
  },
  {
   "cell_type": "code",
   "execution_count": 4,
   "metadata": {},
   "outputs": [
    {
     "data": {
      "text/html": [
       "<div>\n",
       "<style scoped>\n",
       "    .dataframe tbody tr th:only-of-type {\n",
       "        vertical-align: middle;\n",
       "    }\n",
       "\n",
       "    .dataframe tbody tr th {\n",
       "        vertical-align: top;\n",
       "    }\n",
       "\n",
       "    .dataframe thead th {\n",
       "        text-align: right;\n",
       "    }\n",
       "</style>\n",
       "<table border=\"1\" class=\"dataframe\">\n",
       "  <thead>\n",
       "    <tr style=\"text-align: right;\">\n",
       "      <th></th>\n",
       "      <th>STD_DT</th>\n",
       "      <th>MIXA_PASTEUR_STATE</th>\n",
       "      <th>MIXB_PASTEUR_STATE</th>\n",
       "      <th>MIXA_PASTEUR_TEMP</th>\n",
       "      <th>MIXB_PASTEUR_TEMP</th>\n",
       "      <th>INSP</th>\n",
       "    </tr>\n",
       "  </thead>\n",
       "  <tbody>\n",
       "    <tr>\n",
       "      <th>0</th>\n",
       "      <td>2020-03-04 6:00</td>\n",
       "      <td>1.0</td>\n",
       "      <td>1.0</td>\n",
       "      <td>551.0</td>\n",
       "      <td>524.0</td>\n",
       "      <td>OK</td>\n",
       "    </tr>\n",
       "    <tr>\n",
       "      <th>1</th>\n",
       "      <td>2020-03-04 6:30</td>\n",
       "      <td>1.0</td>\n",
       "      <td>1.0</td>\n",
       "      <td>584.0</td>\n",
       "      <td>536.0</td>\n",
       "      <td>OK</td>\n",
       "    </tr>\n",
       "    <tr>\n",
       "      <th>2</th>\n",
       "      <td>2020-03-04 7:00</td>\n",
       "      <td>1.0</td>\n",
       "      <td>1.0</td>\n",
       "      <td>584.0</td>\n",
       "      <td>536.0</td>\n",
       "      <td>OK</td>\n",
       "    </tr>\n",
       "    <tr>\n",
       "      <th>3</th>\n",
       "      <td>2020-03-04 7:30</td>\n",
       "      <td>1.0</td>\n",
       "      <td>1.0</td>\n",
       "      <td>585.0</td>\n",
       "      <td>536.0</td>\n",
       "      <td>OK</td>\n",
       "    </tr>\n",
       "    <tr>\n",
       "      <th>4</th>\n",
       "      <td>2020-03-04 8:00</td>\n",
       "      <td>1.0</td>\n",
       "      <td>1.0</td>\n",
       "      <td>585.0</td>\n",
       "      <td>536.0</td>\n",
       "      <td>OK</td>\n",
       "    </tr>\n",
       "    <tr>\n",
       "      <th>5</th>\n",
       "      <td>2020-03-04 8:30</td>\n",
       "      <td>1.0</td>\n",
       "      <td>1.0</td>\n",
       "      <td>585.0</td>\n",
       "      <td>536.0</td>\n",
       "      <td>OK</td>\n",
       "    </tr>\n",
       "    <tr>\n",
       "      <th>6</th>\n",
       "      <td>2020-03-04 9:00</td>\n",
       "      <td>1.0</td>\n",
       "      <td>1.0</td>\n",
       "      <td>585.0</td>\n",
       "      <td>537.0</td>\n",
       "      <td>OK</td>\n",
       "    </tr>\n",
       "    <tr>\n",
       "      <th>7</th>\n",
       "      <td>2020-03-04 9:30</td>\n",
       "      <td>1.0</td>\n",
       "      <td>1.0</td>\n",
       "      <td>585.0</td>\n",
       "      <td>538.0</td>\n",
       "      <td>OK</td>\n",
       "    </tr>\n",
       "    <tr>\n",
       "      <th>8</th>\n",
       "      <td>2020-03-04 10:00</td>\n",
       "      <td>1.0</td>\n",
       "      <td>1.0</td>\n",
       "      <td>585.0</td>\n",
       "      <td>541.0</td>\n",
       "      <td>OK</td>\n",
       "    </tr>\n",
       "    <tr>\n",
       "      <th>9</th>\n",
       "      <td>2020-03-04 10:30</td>\n",
       "      <td>1.0</td>\n",
       "      <td>1.0</td>\n",
       "      <td>585.0</td>\n",
       "      <td>543.0</td>\n",
       "      <td>OK</td>\n",
       "    </tr>\n",
       "    <tr>\n",
       "      <th>10</th>\n",
       "      <td>2020-03-04 11:00</td>\n",
       "      <td>1.0</td>\n",
       "      <td>1.0</td>\n",
       "      <td>585.0</td>\n",
       "      <td>545.0</td>\n",
       "      <td>OK</td>\n",
       "    </tr>\n",
       "    <tr>\n",
       "      <th>11</th>\n",
       "      <td>2020-03-04 11:30</td>\n",
       "      <td>1.0</td>\n",
       "      <td>1.0</td>\n",
       "      <td>585.0</td>\n",
       "      <td>548.0</td>\n",
       "      <td>OK</td>\n",
       "    </tr>\n",
       "    <tr>\n",
       "      <th>12</th>\n",
       "      <td>2020-03-04 12:00</td>\n",
       "      <td>1.0</td>\n",
       "      <td>1.0</td>\n",
       "      <td>584.0</td>\n",
       "      <td>551.0</td>\n",
       "      <td>OK</td>\n",
       "    </tr>\n",
       "    <tr>\n",
       "      <th>13</th>\n",
       "      <td>2020-03-04 12:30</td>\n",
       "      <td>1.0</td>\n",
       "      <td>1.0</td>\n",
       "      <td>584.0</td>\n",
       "      <td>554.0</td>\n",
       "      <td>OK</td>\n",
       "    </tr>\n",
       "    <tr>\n",
       "      <th>14</th>\n",
       "      <td>2020-03-04 13:00</td>\n",
       "      <td>1.0</td>\n",
       "      <td>1.0</td>\n",
       "      <td>582.0</td>\n",
       "      <td>556.0</td>\n",
       "      <td>OK</td>\n",
       "    </tr>\n",
       "    <tr>\n",
       "      <th>15</th>\n",
       "      <td>2020-03-04 13:15</td>\n",
       "      <td>1.0</td>\n",
       "      <td>NaN</td>\n",
       "      <td>551.0</td>\n",
       "      <td>524.0</td>\n",
       "      <td>NG</td>\n",
       "    </tr>\n",
       "    <tr>\n",
       "      <th>16</th>\n",
       "      <td>2020-03-04 13:30</td>\n",
       "      <td>1.0</td>\n",
       "      <td>1.0</td>\n",
       "      <td>580.0</td>\n",
       "      <td>558.0</td>\n",
       "      <td>OK</td>\n",
       "    </tr>\n",
       "    <tr>\n",
       "      <th>17</th>\n",
       "      <td>2020-03-04 14:00</td>\n",
       "      <td>1.0</td>\n",
       "      <td>1.0</td>\n",
       "      <td>577.0</td>\n",
       "      <td>561.0</td>\n",
       "      <td>OK</td>\n",
       "    </tr>\n",
       "    <tr>\n",
       "      <th>18</th>\n",
       "      <td>2020-03-04 14:30</td>\n",
       "      <td>1.0</td>\n",
       "      <td>1.0</td>\n",
       "      <td>573.0</td>\n",
       "      <td>564.0</td>\n",
       "      <td>OK</td>\n",
       "    </tr>\n",
       "    <tr>\n",
       "      <th>19</th>\n",
       "      <td>2020-03-04 15:00</td>\n",
       "      <td>1.0</td>\n",
       "      <td>1.0</td>\n",
       "      <td>572.0</td>\n",
       "      <td>566.0</td>\n",
       "      <td>OK</td>\n",
       "    </tr>\n",
       "  </tbody>\n",
       "</table>\n",
       "</div>"
      ],
      "text/plain": [
       "              STD_DT  MIXA_PASTEUR_STATE  MIXB_PASTEUR_STATE  \\\n",
       "0    2020-03-04 6:00                 1.0                 1.0   \n",
       "1    2020-03-04 6:30                 1.0                 1.0   \n",
       "2    2020-03-04 7:00                 1.0                 1.0   \n",
       "3    2020-03-04 7:30                 1.0                 1.0   \n",
       "4    2020-03-04 8:00                 1.0                 1.0   \n",
       "5    2020-03-04 8:30                 1.0                 1.0   \n",
       "6    2020-03-04 9:00                 1.0                 1.0   \n",
       "7    2020-03-04 9:30                 1.0                 1.0   \n",
       "8   2020-03-04 10:00                 1.0                 1.0   \n",
       "9   2020-03-04 10:30                 1.0                 1.0   \n",
       "10  2020-03-04 11:00                 1.0                 1.0   \n",
       "11  2020-03-04 11:30                 1.0                 1.0   \n",
       "12  2020-03-04 12:00                 1.0                 1.0   \n",
       "13  2020-03-04 12:30                 1.0                 1.0   \n",
       "14  2020-03-04 13:00                 1.0                 1.0   \n",
       "15  2020-03-04 13:15                 1.0                 NaN   \n",
       "16  2020-03-04 13:30                 1.0                 1.0   \n",
       "17  2020-03-04 14:00                 1.0                 1.0   \n",
       "18  2020-03-04 14:30                 1.0                 1.0   \n",
       "19  2020-03-04 15:00                 1.0                 1.0   \n",
       "\n",
       "    MIXA_PASTEUR_TEMP  MIXB_PASTEUR_TEMP INSP  \n",
       "0               551.0              524.0   OK  \n",
       "1               584.0              536.0   OK  \n",
       "2               584.0              536.0   OK  \n",
       "3               585.0              536.0   OK  \n",
       "4               585.0              536.0   OK  \n",
       "5               585.0              536.0   OK  \n",
       "6               585.0              537.0   OK  \n",
       "7               585.0              538.0   OK  \n",
       "8               585.0              541.0   OK  \n",
       "9               585.0              543.0   OK  \n",
       "10              585.0              545.0   OK  \n",
       "11              585.0              548.0   OK  \n",
       "12              584.0              551.0   OK  \n",
       "13              584.0              554.0   OK  \n",
       "14              582.0              556.0   OK  \n",
       "15              551.0              524.0   NG  \n",
       "16              580.0              558.0   OK  \n",
       "17              577.0              561.0   OK  \n",
       "18              573.0              564.0   OK  \n",
       "19              572.0              566.0   OK  "
      ]
     },
     "execution_count": 4,
     "metadata": {},
     "output_type": "execute_result"
    }
   ],
   "source": [
    "df.head(20)"
   ]
  },
  {
   "cell_type": "code",
   "execution_count": 5,
   "metadata": {
    "scrolled": true
   },
   "outputs": [
    {
     "data": {
      "text/html": [
       "<div>\n",
       "<style scoped>\n",
       "    .dataframe tbody tr th:only-of-type {\n",
       "        vertical-align: middle;\n",
       "    }\n",
       "\n",
       "    .dataframe tbody tr th {\n",
       "        vertical-align: top;\n",
       "    }\n",
       "\n",
       "    .dataframe thead th {\n",
       "        text-align: right;\n",
       "    }\n",
       "</style>\n",
       "<table border=\"1\" class=\"dataframe\">\n",
       "  <thead>\n",
       "    <tr style=\"text-align: right;\">\n",
       "      <th></th>\n",
       "      <th>STD_DT</th>\n",
       "      <th>MIXA_PASTEUR_STATE</th>\n",
       "      <th>MIXB_PASTEUR_STATE</th>\n",
       "      <th>MIXA_PASTEUR_TEMP</th>\n",
       "      <th>MIXB_PASTEUR_TEMP</th>\n",
       "      <th>INSP</th>\n",
       "    </tr>\n",
       "  </thead>\n",
       "  <tbody>\n",
       "    <tr>\n",
       "      <th>210789</th>\n",
       "      <td>2020-11-11 18:34</td>\n",
       "      <td>NaN</td>\n",
       "      <td>NaN</td>\n",
       "      <td>586.0</td>\n",
       "      <td>566.0</td>\n",
       "      <td>OK</td>\n",
       "    </tr>\n",
       "    <tr>\n",
       "      <th>210790</th>\n",
       "      <td>2020-11-11 18:35</td>\n",
       "      <td>NaN</td>\n",
       "      <td>NaN</td>\n",
       "      <td>582.0</td>\n",
       "      <td>569.0</td>\n",
       "      <td>OK</td>\n",
       "    </tr>\n",
       "    <tr>\n",
       "      <th>210791</th>\n",
       "      <td>2020-11-11 18:36</td>\n",
       "      <td>NaN</td>\n",
       "      <td>NaN</td>\n",
       "      <td>577.0</td>\n",
       "      <td>572.0</td>\n",
       "      <td>OK</td>\n",
       "    </tr>\n",
       "    <tr>\n",
       "      <th>210792</th>\n",
       "      <td>2020-11-11 18:37</td>\n",
       "      <td>NaN</td>\n",
       "      <td>NaN</td>\n",
       "      <td>572.0</td>\n",
       "      <td>575.0</td>\n",
       "      <td>OK</td>\n",
       "    </tr>\n",
       "    <tr>\n",
       "      <th>210793</th>\n",
       "      <td>2020-11-11 18:38</td>\n",
       "      <td>NaN</td>\n",
       "      <td>NaN</td>\n",
       "      <td>568.0</td>\n",
       "      <td>576.0</td>\n",
       "      <td>OK</td>\n",
       "    </tr>\n",
       "  </tbody>\n",
       "</table>\n",
       "</div>"
      ],
      "text/plain": [
       "                  STD_DT  MIXA_PASTEUR_STATE  MIXB_PASTEUR_STATE  \\\n",
       "210789  2020-11-11 18:34                 NaN                 NaN   \n",
       "210790  2020-11-11 18:35                 NaN                 NaN   \n",
       "210791  2020-11-11 18:36                 NaN                 NaN   \n",
       "210792  2020-11-11 18:37                 NaN                 NaN   \n",
       "210793  2020-11-11 18:38                 NaN                 NaN   \n",
       "\n",
       "        MIXA_PASTEUR_TEMP  MIXB_PASTEUR_TEMP INSP  \n",
       "210789              586.0              566.0   OK  \n",
       "210790              582.0              569.0   OK  \n",
       "210791              577.0              572.0   OK  \n",
       "210792              572.0              575.0   OK  \n",
       "210793              568.0              576.0   OK  "
      ]
     },
     "execution_count": 5,
     "metadata": {},
     "output_type": "execute_result"
    }
   ],
   "source": [
    "df.tail()"
   ]
  },
  {
   "cell_type": "markdown",
   "metadata": {},
   "source": [
    "# 2. 데이터 종류 및 개수 확인"
   ]
  },
  {
   "cell_type": "markdown",
   "metadata": {},
   "source": [
    "## 2-1. 컬럼명 확인"
   ]
  },
  {
   "cell_type": "code",
   "execution_count": 6,
   "metadata": {},
   "outputs": [
    {
     "data": {
      "text/plain": [
       "Index(['STD_DT', 'MIXA_PASTEUR_STATE', 'MIXB_PASTEUR_STATE',\n",
       "       'MIXA_PASTEUR_TEMP', 'MIXB_PASTEUR_TEMP', 'INSP'],\n",
       "      dtype='object')"
      ]
     },
     "execution_count": 6,
     "metadata": {},
     "output_type": "execute_result"
    }
   ],
   "source": [
    "df.columns"
   ]
  },
  {
   "cell_type": "markdown",
   "metadata": {},
   "source": [
    "데이터프레임에 들어있는 컬럼명을 확인하는 코드로  \n",
    "['STD_DT', 'MIXA_PASTEUR_STATE', 'MIXB_PASTEUR_STATE','MIXA_PASTEUR_TEMP', 'MIXB_PASTEUR_TEMP', 'INSP']  \n",
    "총 6개의 컬럼을 확인할 수 있다."
   ]
  },
  {
   "cell_type": "markdown",
   "metadata": {},
   "source": [
    "## 2-2. 데이터 정보 확인하기\n",
    " - 불러들인 데이터를 구성하고 있는 요소들의 컬럼명, 데이터 타입, 컬럼별 null이 아닌 데이터 개수 등을 확인"
   ]
  },
  {
   "cell_type": "markdown",
   "metadata": {},
   "source": [
    "## 2-3. 요약 통계량 확인"
   ]
  },
  {
   "cell_type": "code",
   "execution_count": 7,
   "metadata": {},
   "outputs": [
    {
     "name": "stdout",
     "output_type": "stream",
     "text": [
      "<class 'pandas.core.frame.DataFrame'>\n",
      "RangeIndex: 210794 entries, 0 to 210793\n",
      "Data columns (total 6 columns):\n",
      " #   Column              Non-Null Count   Dtype  \n",
      "---  ------              --------------   -----  \n",
      " 0   STD_DT              210794 non-null  object \n",
      " 1   MIXA_PASTEUR_STATE  11135 non-null   float64\n",
      " 2   MIXB_PASTEUR_STATE  10255 non-null   float64\n",
      " 3   MIXA_PASTEUR_TEMP   201423 non-null  float64\n",
      " 4   MIXB_PASTEUR_TEMP   198802 non-null  float64\n",
      " 5   INSP                210794 non-null  object \n",
      "dtypes: float64(4), object(2)\n",
      "memory usage: 9.6+ MB\n"
     ]
    }
   ],
   "source": [
    "df.info()"
   ]
  },
  {
   "cell_type": "markdown",
   "metadata": {},
   "source": [
    "불러들인 데이터를 구성하고 있는 요소들의 컬럼명, 컬럼별  null이 아닌 데이터 개수, 데이터 타입을 확인할 수 있다.  \n",
    "이 데이터는 float64 형이 4개, object형이 2개라고 나온다."
   ]
  },
  {
   "cell_type": "code",
   "execution_count": 8,
   "metadata": {},
   "outputs": [
    {
     "data": {
      "text/html": [
       "<div>\n",
       "<style scoped>\n",
       "    .dataframe tbody tr th:only-of-type {\n",
       "        vertical-align: middle;\n",
       "    }\n",
       "\n",
       "    .dataframe tbody tr th {\n",
       "        vertical-align: top;\n",
       "    }\n",
       "\n",
       "    .dataframe thead th {\n",
       "        text-align: right;\n",
       "    }\n",
       "</style>\n",
       "<table border=\"1\" class=\"dataframe\">\n",
       "  <thead>\n",
       "    <tr style=\"text-align: right;\">\n",
       "      <th></th>\n",
       "      <th>MIXA_PASTEUR_STATE</th>\n",
       "      <th>MIXB_PASTEUR_STATE</th>\n",
       "      <th>MIXA_PASTEUR_TEMP</th>\n",
       "      <th>MIXB_PASTEUR_TEMP</th>\n",
       "    </tr>\n",
       "  </thead>\n",
       "  <tbody>\n",
       "    <tr>\n",
       "      <th>count</th>\n",
       "      <td>1.113500e+04</td>\n",
       "      <td>10255.000000</td>\n",
       "      <td>201423.000000</td>\n",
       "      <td>1.988020e+05</td>\n",
       "    </tr>\n",
       "    <tr>\n",
       "      <th>mean</th>\n",
       "      <td>5.032693e+04</td>\n",
       "      <td>633.200390</td>\n",
       "      <td>566.867528</td>\n",
       "      <td>1.862568e+04</td>\n",
       "    </tr>\n",
       "    <tr>\n",
       "      <th>std</th>\n",
       "      <td>5.286901e+05</td>\n",
       "      <td>6408.270847</td>\n",
       "      <td>69.061703</td>\n",
       "      <td>8.111731e+05</td>\n",
       "    </tr>\n",
       "    <tr>\n",
       "      <th>min</th>\n",
       "      <td>0.000000e+00</td>\n",
       "      <td>0.000000</td>\n",
       "      <td>0.000000</td>\n",
       "      <td>0.000000e+00</td>\n",
       "    </tr>\n",
       "    <tr>\n",
       "      <th>25%</th>\n",
       "      <td>0.000000e+00</td>\n",
       "      <td>0.000000</td>\n",
       "      <td>543.000000</td>\n",
       "      <td>5.420000e+02</td>\n",
       "    </tr>\n",
       "    <tr>\n",
       "      <th>50%</th>\n",
       "      <td>1.000000e+00</td>\n",
       "      <td>1.000000</td>\n",
       "      <td>570.000000</td>\n",
       "      <td>5.690000e+02</td>\n",
       "    </tr>\n",
       "    <tr>\n",
       "      <th>75%</th>\n",
       "      <td>1.000000e+00</td>\n",
       "      <td>1.000000</td>\n",
       "      <td>596.000000</td>\n",
       "      <td>5.950000e+02</td>\n",
       "    </tr>\n",
       "    <tr>\n",
       "      <th>max</th>\n",
       "      <td>5.603841e+06</td>\n",
       "      <td>65536.000000</td>\n",
       "      <td>772.000000</td>\n",
       "      <td>4.279501e+07</td>\n",
       "    </tr>\n",
       "  </tbody>\n",
       "</table>\n",
       "</div>"
      ],
      "text/plain": [
       "       MIXA_PASTEUR_STATE  MIXB_PASTEUR_STATE  MIXA_PASTEUR_TEMP  \\\n",
       "count        1.113500e+04        10255.000000      201423.000000   \n",
       "mean         5.032693e+04          633.200390         566.867528   \n",
       "std          5.286901e+05         6408.270847          69.061703   \n",
       "min          0.000000e+00            0.000000           0.000000   \n",
       "25%          0.000000e+00            0.000000         543.000000   \n",
       "50%          1.000000e+00            1.000000         570.000000   \n",
       "75%          1.000000e+00            1.000000         596.000000   \n",
       "max          5.603841e+06        65536.000000         772.000000   \n",
       "\n",
       "       MIXB_PASTEUR_TEMP  \n",
       "count       1.988020e+05  \n",
       "mean        1.862568e+04  \n",
       "std         8.111731e+05  \n",
       "min         0.000000e+00  \n",
       "25%         5.420000e+02  \n",
       "50%         5.690000e+02  \n",
       "75%         5.950000e+02  \n",
       "max         4.279501e+07  "
      ]
     },
     "execution_count": 8,
     "metadata": {},
     "output_type": "execute_result"
    }
   ],
   "source": [
    "df.describe()"
   ]
  },
  {
   "cell_type": "markdown",
   "metadata": {},
   "source": [
    "describe() 명령을 통해 다양한 요약 통계를 확인할 수 있다. 각 항목에 대한 설명은 다음과 같다.  \n",
    " - count : null이 아닌 행의 개수  \n",
    " - mean : 평균\n",
    " - std : 표준 편차\n",
    " - min : 최소값\n",
    " - 25% : 1/4 분위\n",
    " - 50% : 중앙값\n",
    " - 75% : 3/4 분위\n",
    " - max :최대값"
   ]
  },
  {
   "cell_type": "markdown",
   "metadata": {},
   "source": [
    "## 2-4. 데이터 개수 확인"
   ]
  },
  {
   "cell_type": "code",
   "execution_count": 9,
   "metadata": {},
   "outputs": [
    {
     "data": {
      "text/plain": [
       "(210794, 6)"
      ]
     },
     "execution_count": 9,
     "metadata": {},
     "output_type": "execute_result"
    }
   ],
   "source": [
    "df.shape"
   ]
  },
  {
   "cell_type": "markdown",
   "metadata": {},
   "source": [
    "데이터프레임의 크기는 shape 명령을 통해 (행,열) 의 개수를 확인할 수 있다.  \n",
    "이 데이터는 행이 210,794개이고 열이 6개인 데이터임을 보여준다."
   ]
  },
  {
   "cell_type": "markdown",
   "metadata": {},
   "source": [
    "## 2-5. 특정 컬럼 개수 확인"
   ]
  },
  {
   "cell_type": "code",
   "execution_count": 10,
   "metadata": {},
   "outputs": [
    {
     "data": {
      "text/plain": [
       "OK    133010\n",
       "NG     77784\n",
       "Name: INSP, dtype: int64"
      ]
     },
     "execution_count": 10,
     "metadata": {},
     "output_type": "execute_result"
    }
   ],
   "source": [
    "df['INSP'].value_counts()"
   ]
  },
  {
   "cell_type": "markdown",
   "metadata": {},
   "source": [
    "## 2-6. 컬럼별 null 개수 확인"
   ]
  },
  {
   "cell_type": "code",
   "execution_count": 11,
   "metadata": {},
   "outputs": [
    {
     "data": {
      "text/plain": [
       "STD_DT                     0\n",
       "MIXA_PASTEUR_STATE    199659\n",
       "MIXB_PASTEUR_STATE    200539\n",
       "MIXA_PASTEUR_TEMP       9371\n",
       "MIXB_PASTEUR_TEMP      11992\n",
       "INSP                       0\n",
       "dtype: int64"
      ]
     },
     "execution_count": 11,
     "metadata": {},
     "output_type": "execute_result"
    }
   ],
   "source": [
    "df.isna().sum()"
   ]
  },
  {
   "cell_type": "markdown",
   "metadata": {},
   "source": [
    "# 3. 데이터 전처리"
   ]
  },
  {
   "cell_type": "markdown",
   "metadata": {},
   "source": [
    "## 3-1. 결측치 제거\n"
   ]
  },
  {
   "cell_type": "code",
   "execution_count": 12,
   "metadata": {
    "ExecuteTime": {
     "end_time": "2020-12-18T09:31:39.706888Z",
     "start_time": "2020-12-18T09:31:38.672875Z"
    }
   },
   "outputs": [],
   "source": [
    "df = df.dropna()"
   ]
  },
  {
   "cell_type": "markdown",
   "metadata": {},
   "source": [
    "dropna()를 통해 null 값이 있는 행은 삭제한다."
   ]
  },
  {
   "cell_type": "markdown",
   "metadata": {},
   "source": [
    "## 3-2. 결측치 제거 결과 확인"
   ]
  },
  {
   "cell_type": "code",
   "execution_count": 13,
   "metadata": {
    "ExecuteTime": {
     "end_time": "2020-12-18T09:31:40.975873Z",
     "start_time": "2020-12-18T09:31:40.968874Z"
    }
   },
   "outputs": [
    {
     "data": {
      "text/plain": [
       "STD_DT                0\n",
       "MIXA_PASTEUR_STATE    0\n",
       "MIXB_PASTEUR_STATE    0\n",
       "MIXA_PASTEUR_TEMP     0\n",
       "MIXB_PASTEUR_TEMP     0\n",
       "INSP                  0\n",
       "dtype: int64"
      ]
     },
     "execution_count": 13,
     "metadata": {},
     "output_type": "execute_result"
    }
   ],
   "source": [
    "df.isna().sum()"
   ]
  },
  {
   "cell_type": "markdown",
   "metadata": {},
   "source": [
    "삭제가 제대로 이루어졌는지 확인하기 위해 다시 컬럼별 null 개수를 확인해보니 모두 0으로 나타나는 것을 확인할 수 있다."
   ]
  },
  {
   "cell_type": "code",
   "execution_count": 14,
   "metadata": {
    "ExecuteTime": {
     "end_time": "2020-12-18T09:31:46.659910Z",
     "start_time": "2020-12-18T09:31:46.257889Z"
    }
   },
   "outputs": [
    {
     "data": {
      "text/plain": [
       "(array([9383.,    0.,    0.,    0.,    0.,    0.,    0.,    0.,    0.,\n",
       "         100.]),\n",
       " array([      0. ,  560384.1, 1120768.2, 1681152.3, 2241536.4, 2801920.5,\n",
       "        3362304.6, 3922688.7, 4483072.8, 5043456.9, 5603841. ]),\n",
       " <BarContainer object of 10 artists>)"
      ]
     },
     "execution_count": 14,
     "metadata": {},
     "output_type": "execute_result"
    },
    {
     "data": {
      "image/png": "[encoded data removed]",
      "text/plain": [
       "<Figure size 432x288 with 1 Axes>"
      ]
     },
     "metadata": {
      "needs_background": "light"
     },
     "output_type": "display_data"
    }
   ],
   "source": [
    "plt.hist(df['MIXA_PASTEUR_STATE'])"
   ]
  },
  {
   "cell_type": "markdown",
   "metadata": {},
   "source": [
    "데이터의 분포, 중심 경향, 치우침 정도들을 파악하기 위해 주로 사용하는 히스토그램을 통해 특정 컬럼의 데이터를 살펴볼 수 있다.  \n",
    "이 컬럼의 값은 9383개의 행이 0과 560384 사이에 분포하고, 나머지 100개가 5043456과 5603841 사이에 분포하고 있는 것으로 나타난다."
   ]
  },
  {
   "cell_type": "code",
   "execution_count": 15,
   "metadata": {
    "ExecuteTime": {
     "end_time": "2020-12-18T09:31:49.637874Z",
     "start_time": "2020-12-18T09:31:49.632872Z"
    }
   },
   "outputs": [
    {
     "data": {
      "text/plain": [
       "array([1.000000e+00, 5.603841e+06, 0.000000e+00])"
      ]
     },
     "execution_count": 15,
     "metadata": {},
     "output_type": "execute_result"
    }
   ],
   "source": [
    "df['MIXA_PASTEUR_STATE'].unique()"
   ]
  },
  {
   "cell_type": "markdown",
   "metadata": {},
   "source": [
    "unique()를 통해 특정 컬럼의 유일값을 파악할 수 있다. MIXA_PASTEUR_STATE 컬럼에는 총 3개의 유일한 값이 존재하며, 그 값은 0, 1 그리고 5603841 로 나타난다.  \n",
    "이 컬럼은 상태값을 나타내는데 0과 1이 아닌 다른 값들은 잘못된 값이기 때문에 분석에서 제거할 필요가 있다."
   ]
  },
  {
   "cell_type": "code",
   "execution_count": 16,
   "metadata": {
    "ExecuteTime": {
     "end_time": "2020-12-18T09:31:52.533874Z",
     "start_time": "2020-12-18T09:31:52.528874Z"
    }
   },
   "outputs": [],
   "source": [
    "df = df[df.MIXA_PASTEUR_STATE < 2]"
   ]
  },
  {
   "cell_type": "markdown",
   "metadata": {},
   "source": [
    "MIXA_PASTEUR_STATE의 값이 2 이상인 행 제거"
   ]
  },
  {
   "cell_type": "code",
   "execution_count": 17,
   "metadata": {},
   "outputs": [
    {
     "data": {
      "text/html": [
       "<div>\n",
       "<style scoped>\n",
       "    .dataframe tbody tr th:only-of-type {\n",
       "        vertical-align: middle;\n",
       "    }\n",
       "\n",
       "    .dataframe tbody tr th {\n",
       "        vertical-align: top;\n",
       "    }\n",
       "\n",
       "    .dataframe thead th {\n",
       "        text-align: right;\n",
       "    }\n",
       "</style>\n",
       "<table border=\"1\" class=\"dataframe\">\n",
       "  <thead>\n",
       "    <tr style=\"text-align: right;\">\n",
       "      <th></th>\n",
       "      <th>STD_DT</th>\n",
       "      <th>MIXA_PASTEUR_STATE</th>\n",
       "      <th>MIXB_PASTEUR_STATE</th>\n",
       "      <th>MIXA_PASTEUR_TEMP</th>\n",
       "      <th>MIXB_PASTEUR_TEMP</th>\n",
       "      <th>INSP</th>\n",
       "    </tr>\n",
       "  </thead>\n",
       "  <tbody>\n",
       "    <tr>\n",
       "      <th>0</th>\n",
       "      <td>2020-03-04 6:00</td>\n",
       "      <td>1.0</td>\n",
       "      <td>1.0</td>\n",
       "      <td>551.0</td>\n",
       "      <td>524.0</td>\n",
       "      <td>OK</td>\n",
       "    </tr>\n",
       "    <tr>\n",
       "      <th>1</th>\n",
       "      <td>2020-03-04 6:30</td>\n",
       "      <td>1.0</td>\n",
       "      <td>1.0</td>\n",
       "      <td>584.0</td>\n",
       "      <td>536.0</td>\n",
       "      <td>OK</td>\n",
       "    </tr>\n",
       "    <tr>\n",
       "      <th>2</th>\n",
       "      <td>2020-03-04 7:00</td>\n",
       "      <td>1.0</td>\n",
       "      <td>1.0</td>\n",
       "      <td>584.0</td>\n",
       "      <td>536.0</td>\n",
       "      <td>OK</td>\n",
       "    </tr>\n",
       "    <tr>\n",
       "      <th>3</th>\n",
       "      <td>2020-03-04 7:30</td>\n",
       "      <td>1.0</td>\n",
       "      <td>1.0</td>\n",
       "      <td>585.0</td>\n",
       "      <td>536.0</td>\n",
       "      <td>OK</td>\n",
       "    </tr>\n",
       "    <tr>\n",
       "      <th>4</th>\n",
       "      <td>2020-03-04 8:00</td>\n",
       "      <td>1.0</td>\n",
       "      <td>1.0</td>\n",
       "      <td>585.0</td>\n",
       "      <td>536.0</td>\n",
       "      <td>OK</td>\n",
       "    </tr>\n",
       "    <tr>\n",
       "      <th>...</th>\n",
       "      <td>...</td>\n",
       "      <td>...</td>\n",
       "      <td>...</td>\n",
       "      <td>...</td>\n",
       "      <td>...</td>\n",
       "      <td>...</td>\n",
       "    </tr>\n",
       "    <tr>\n",
       "      <th>160703</th>\n",
       "      <td>2020-09-15 15:00</td>\n",
       "      <td>1.0</td>\n",
       "      <td>1.0</td>\n",
       "      <td>560.0</td>\n",
       "      <td>580.0</td>\n",
       "      <td>OK</td>\n",
       "    </tr>\n",
       "    <tr>\n",
       "      <th>160734</th>\n",
       "      <td>2020-09-15 15:30</td>\n",
       "      <td>1.0</td>\n",
       "      <td>1.0</td>\n",
       "      <td>588.0</td>\n",
       "      <td>555.0</td>\n",
       "      <td>OK</td>\n",
       "    </tr>\n",
       "    <tr>\n",
       "      <th>160765</th>\n",
       "      <td>2020-09-15 16:00</td>\n",
       "      <td>1.0</td>\n",
       "      <td>1.0</td>\n",
       "      <td>588.0</td>\n",
       "      <td>550.0</td>\n",
       "      <td>OK</td>\n",
       "    </tr>\n",
       "    <tr>\n",
       "      <th>160796</th>\n",
       "      <td>2020-09-15 16:30</td>\n",
       "      <td>1.0</td>\n",
       "      <td>1.0</td>\n",
       "      <td>595.0</td>\n",
       "      <td>555.0</td>\n",
       "      <td>OK</td>\n",
       "    </tr>\n",
       "    <tr>\n",
       "      <th>160827</th>\n",
       "      <td>2020-09-15 17:00</td>\n",
       "      <td>1.0</td>\n",
       "      <td>1.0</td>\n",
       "      <td>546.0</td>\n",
       "      <td>595.0</td>\n",
       "      <td>OK</td>\n",
       "    </tr>\n",
       "  </tbody>\n",
       "</table>\n",
       "<p>9383 rows × 6 columns</p>\n",
       "</div>"
      ],
      "text/plain": [
       "                  STD_DT  MIXA_PASTEUR_STATE  MIXB_PASTEUR_STATE  \\\n",
       "0        2020-03-04 6:00                 1.0                 1.0   \n",
       "1        2020-03-04 6:30                 1.0                 1.0   \n",
       "2        2020-03-04 7:00                 1.0                 1.0   \n",
       "3        2020-03-04 7:30                 1.0                 1.0   \n",
       "4        2020-03-04 8:00                 1.0                 1.0   \n",
       "...                  ...                 ...                 ...   \n",
       "160703  2020-09-15 15:00                 1.0                 1.0   \n",
       "160734  2020-09-15 15:30                 1.0                 1.0   \n",
       "160765  2020-09-15 16:00                 1.0                 1.0   \n",
       "160796  2020-09-15 16:30                 1.0                 1.0   \n",
       "160827  2020-09-15 17:00                 1.0                 1.0   \n",
       "\n",
       "        MIXA_PASTEUR_TEMP  MIXB_PASTEUR_TEMP INSP  \n",
       "0                   551.0              524.0   OK  \n",
       "1                   584.0              536.0   OK  \n",
       "2                   584.0              536.0   OK  \n",
       "3                   585.0              536.0   OK  \n",
       "4                   585.0              536.0   OK  \n",
       "...                   ...                ...  ...  \n",
       "160703              560.0              580.0   OK  \n",
       "160734              588.0              555.0   OK  \n",
       "160765              588.0              550.0   OK  \n",
       "160796              595.0              555.0   OK  \n",
       "160827              546.0              595.0   OK  \n",
       "\n",
       "[9383 rows x 6 columns]"
      ]
     },
     "execution_count": 17,
     "metadata": {},
     "output_type": "execute_result"
    }
   ],
   "source": [
    "df"
   ]
  },
  {
   "cell_type": "code",
   "execution_count": 18,
   "metadata": {},
   "outputs": [
    {
     "data": {
      "text/plain": [
       "(array([4729.,    0.,    0.,    0.,    0.,    0.,    0.,    0.,    0.,\n",
       "        4654.]),\n",
       " array([0. , 0.1, 0.2, 0.3, 0.4, 0.5, 0.6, 0.7, 0.8, 0.9, 1. ]),\n",
       " <BarContainer object of 10 artists>)"
      ]
     },
     "execution_count": 18,
     "metadata": {},
     "output_type": "execute_result"
    },
    {
     "data": {
      "image/png": "[encoded data removed]",
      "text/plain": [
       "<Figure size 432x288 with 1 Axes>"
      ]
     },
     "metadata": {
      "needs_background": "light"
     },
     "output_type": "display_data"
    }
   ],
   "source": [
    "plt.hist(df['MIXA_PASTEUR_STATE'])"
   ]
  },
  {
   "cell_type": "code",
   "execution_count": 19,
   "metadata": {},
   "outputs": [
    {
     "data": {
      "text/plain": [
       "(array([4729.,    0.,    0.,    0.,    0.,    0.,    0.,    0.,    0.,\n",
       "        4654.]),\n",
       " array([0. , 0.1, 0.2, 0.3, 0.4, 0.5, 0.6, 0.7, 0.8, 0.9, 1. ]),\n",
       " <BarContainer object of 10 artists>)"
      ]
     },
     "execution_count": 19,
     "metadata": {},
     "output_type": "execute_result"
    },
    {
     "data": {
      "image/png": "[encoded data removed]",
      "text/plain": [
       "<Figure size 432x288 with 1 Axes>"
      ]
     },
     "metadata": {
      "needs_background": "light"
     },
     "output_type": "display_data"
    }
   ],
   "source": [
    "plt.hist(df['MIXB_PASTEUR_STATE'])"
   ]
  },
  {
   "cell_type": "code",
   "execution_count": 20,
   "metadata": {},
   "outputs": [
    {
     "data": {
      "text/plain": [
       "(array([   7.,    0.,    0., 2720.,  158.,  241., 1688., 4304.,  238.,\n",
       "          27.]),\n",
       " array([  0. ,  77.2, 154.4, 231.6, 308.8, 386. , 463.2, 540.4, 617.6,\n",
       "        694.8, 772. ]),\n",
       " <BarContainer object of 10 artists>)"
      ]
     },
     "execution_count": 20,
     "metadata": {},
     "output_type": "execute_result"
    },
    {
     "data": {
      "image/png": "[encoded data removed]",
      "text/plain": [
       "<Figure size 432x288 with 1 Axes>"
      ]
     },
     "metadata": {
      "needs_background": "light"
     },
     "output_type": "display_data"
    }
   ],
   "source": [
    "plt.hist(df['MIXA_PASTEUR_TEMP'])"
   ]
  },
  {
   "cell_type": "code",
   "execution_count": 21,
   "metadata": {},
   "outputs": [
    {
     "data": {
      "text/plain": [
       "(array([   7.,    0.,    0., 1749., 1423.,   10., 1487., 4418.,  250.,\n",
       "          39.]),\n",
       " array([  0. ,  76.5, 153. , 229.5, 306. , 382.5, 459. , 535.5, 612. ,\n",
       "        688.5, 765. ]),\n",
       " <BarContainer object of 10 artists>)"
      ]
     },
     "execution_count": 21,
     "metadata": {},
     "output_type": "execute_result"
    },
    {
     "data": {
      "image/png": "[encoded data removed]",
      "text/plain": [
       "<Figure size 432x288 with 1 Axes>"
      ]
     },
     "metadata": {
      "needs_background": "light"
     },
     "output_type": "display_data"
    }
   ],
   "source": [
    "plt.hist(df['MIXB_PASTEUR_TEMP'])"
   ]
  },
  {
   "cell_type": "markdown",
   "metadata": {},
   "source": [
    "# 4. 데이터 특성 파악"
   ]
  },
  {
   "cell_type": "markdown",
   "metadata": {},
   "source": [
    "## 4-1. 요약 통계"
   ]
  },
  {
   "cell_type": "code",
   "execution_count": 22,
   "metadata": {},
   "outputs": [
    {
     "data": {
      "text/plain": [
       "array([[<AxesSubplot:title={'center':'MIXA_PASTEUR_STATE'}>,\n",
       "        <AxesSubplot:title={'center':'MIXB_PASTEUR_STATE'}>],\n",
       "       [<AxesSubplot:title={'center':'MIXA_PASTEUR_TEMP'}>,\n",
       "        <AxesSubplot:title={'center':'MIXB_PASTEUR_TEMP'}>]], dtype=object)"
      ]
     },
     "execution_count": 22,
     "metadata": {},
     "output_type": "execute_result"
    },
    {
     "data": {
      "image/png": "[encoded data removed]",
      "text/plain": [
       "<Figure size 1440x1080 with 4 Axes>"
      ]
     },
     "metadata": {
      "needs_background": "light"
     },
     "output_type": "display_data"
    }
   ],
   "source": [
    "df.hist(bins=10, figsize=(20, 15))"
   ]
  },
  {
   "cell_type": "markdown",
   "metadata": {},
   "source": [
    "## 4-2. 특성간의 상관 관계"
   ]
  },
  {
   "cell_type": "code",
   "execution_count": 23,
   "metadata": {},
   "outputs": [
    {
     "data": {
      "text/html": [
       "<div>\n",
       "<style scoped>\n",
       "    .dataframe tbody tr th:only-of-type {\n",
       "        vertical-align: middle;\n",
       "    }\n",
       "\n",
       "    .dataframe tbody tr th {\n",
       "        vertical-align: top;\n",
       "    }\n",
       "\n",
       "    .dataframe thead th {\n",
       "        text-align: right;\n",
       "    }\n",
       "</style>\n",
       "<table border=\"1\" class=\"dataframe\">\n",
       "  <thead>\n",
       "    <tr style=\"text-align: right;\">\n",
       "      <th></th>\n",
       "      <th>MIXA_PASTEUR_STATE</th>\n",
       "      <th>MIXB_PASTEUR_STATE</th>\n",
       "      <th>MIXA_PASTEUR_TEMP</th>\n",
       "      <th>MIXB_PASTEUR_TEMP</th>\n",
       "    </tr>\n",
       "  </thead>\n",
       "  <tbody>\n",
       "    <tr>\n",
       "      <th>MIXA_PASTEUR_STATE</th>\n",
       "      <td>1.000000</td>\n",
       "      <td>1.000000</td>\n",
       "      <td>0.523328</td>\n",
       "      <td>0.465706</td>\n",
       "    </tr>\n",
       "    <tr>\n",
       "      <th>MIXB_PASTEUR_STATE</th>\n",
       "      <td>1.000000</td>\n",
       "      <td>1.000000</td>\n",
       "      <td>0.523328</td>\n",
       "      <td>0.465706</td>\n",
       "    </tr>\n",
       "    <tr>\n",
       "      <th>MIXA_PASTEUR_TEMP</th>\n",
       "      <td>0.523328</td>\n",
       "      <td>0.523328</td>\n",
       "      <td>1.000000</td>\n",
       "      <td>0.920102</td>\n",
       "    </tr>\n",
       "    <tr>\n",
       "      <th>MIXB_PASTEUR_TEMP</th>\n",
       "      <td>0.465706</td>\n",
       "      <td>0.465706</td>\n",
       "      <td>0.920102</td>\n",
       "      <td>1.000000</td>\n",
       "    </tr>\n",
       "  </tbody>\n",
       "</table>\n",
       "</div>"
      ],
      "text/plain": [
       "                    MIXA_PASTEUR_STATE  MIXB_PASTEUR_STATE  MIXA_PASTEUR_TEMP  \\\n",
       "MIXA_PASTEUR_STATE            1.000000            1.000000           0.523328   \n",
       "MIXB_PASTEUR_STATE            1.000000            1.000000           0.523328   \n",
       "MIXA_PASTEUR_TEMP             0.523328            0.523328           1.000000   \n",
       "MIXB_PASTEUR_TEMP             0.465706            0.465706           0.920102   \n",
       "\n",
       "                    MIXB_PASTEUR_TEMP  \n",
       "MIXA_PASTEUR_STATE           0.465706  \n",
       "MIXB_PASTEUR_STATE           0.465706  \n",
       "MIXA_PASTEUR_TEMP            0.920102  \n",
       "MIXB_PASTEUR_TEMP            1.000000  "
      ]
     },
     "execution_count": 23,
     "metadata": {},
     "output_type": "execute_result"
    }
   ],
   "source": [
    "df.corr()"
   ]
  },
  {
   "cell_type": "markdown",
   "metadata": {},
   "source": [
    "## 4-3. 히트맵\n"
   ]
  },
  {
   "cell_type": "code",
   "execution_count": 24,
   "metadata": {},
   "outputs": [
    {
     "data": {
      "text/plain": [
       "<AxesSubplot:>"
      ]
     },
     "execution_count": 24,
     "metadata": {},
     "output_type": "execute_result"
    },
    {
     "data": {
      "image/png": "[encoded data removed]",
      "text/plain": [
       "<Figure size 432x288 with 2 Axes>"
      ]
     },
     "metadata": {},
     "output_type": "display_data"
    }
   ],
   "source": [
    "names = ['MIXA_PASTEUR_STATE','MIXB_PASTEUR_STATE','MIXA_PASTEUR_TEMP','MIXB_PASTEUR_TEMP']\n",
    "cm = np.corrcoef(df[names].values.T)\n",
    "sns.set(font_scale=0.6)\n",
    "sns.heatmap(cm, cbar=True, annot=True, square=True, fmt='.2f', annot_kws={'size': 10}, \n",
    "            yticklabels=names,xticklabels=names)"
   ]
  },
  {
   "cell_type": "markdown",
   "metadata": {},
   "source": [
    "히트맵을 통해서 특성간의 상관 관계를 나타낼 수 있다."
   ]
  },
  {
   "cell_type": "markdown",
   "metadata": {},
   "source": [
    "## 4-4. 산점도 매트릭스"
   ]
  },
  {
   "cell_type": "code",
   "execution_count": 25,
   "metadata": {},
   "outputs": [
    {
     "data": {
      "image/png": "[encoded data removed]",
      "text/plain": [
       "<Figure size 1080x1080 with 16 Axes>"
      ]
     },
     "metadata": {},
     "output_type": "display_data"
    }
   ],
   "source": [
    "y = df.iloc[:, -1:].values\n",
    "y = np.where(y == 'OK', 1, 0)\n",
    "y = y.ravel()\n",
    "pd.plotting.scatter_matrix(df, c=y, figsize=(15, 15), marker='o', \n",
    "                           hist_kwds={'bins':20},s=60,alpha=.8, cmap=plt.cm.Set1)\n",
    "plt.show()"
   ]
  },
  {
   "cell_type": "markdown",
   "metadata": {},
   "source": [
    "# 5. 데이터 분리"
   ]
  },
  {
   "cell_type": "code",
   "execution_count": 26,
   "metadata": {
    "ExecuteTime": {
     "end_time": "2020-12-18T09:32:04.919875Z",
     "start_time": "2020-12-18T09:32:04.913876Z"
    }
   },
   "outputs": [
    {
     "name": "stdout",
     "output_type": "stream",
     "text": [
      "(9383, 4) (9383,)\n"
     ]
    }
   ],
   "source": [
    " # 측정데이터와 레이블(정답)을 분리\n",
    "X = df.iloc[:, 1:5].values\n",
    "y = df.iloc[: , -1:].values\n",
    "# print(y[-1:].reshape(-1))   # iloc으로 받아오면 numpy의 ndarray형이다.\n",
    "y = np.where(y == 'OK', 1, 0)\n",
    "y = y.ravel()   # 레이블을 1차원으로 변경하자.\n",
    "print(X.shape, y.shape)\n"
   ]
  },
  {
   "cell_type": "code",
   "execution_count": 27,
   "metadata": {
    "ExecuteTime": {
     "end_time": "2020-12-18T09:32:06.612874Z",
     "start_time": "2020-12-18T09:32:06.608889Z"
    }
   },
   "outputs": [],
   "source": [
    "# 훈련셋과 테스트셋 분리\n",
    "X_train, X_test, y_train, y_test = train_test_split(X, y, test_size=0.3, random_state=1)"
   ]
  },
  {
   "cell_type": "code",
   "execution_count": 28,
   "metadata": {
    "scrolled": true
   },
   "outputs": [
    {
     "data": {
      "text/plain": [
       "array([[  0.,   0., 526., 584.],\n",
       "       [  0.,   0., 571., 526.],\n",
       "       [  0.,   0., 294., 314.],\n",
       "       ...,\n",
       "       [  1.,   1., 543., 578.],\n",
       "       [  1.,   1., 594., 583.],\n",
       "       [  1.,   1., 582., 542.]])"
      ]
     },
     "execution_count": 28,
     "metadata": {},
     "output_type": "execute_result"
    }
   ],
   "source": [
    "X_train"
   ]
  },
  {
   "cell_type": "markdown",
   "metadata": {},
   "source": [
    "# 6. 모델 훈련\n"
   ]
  },
  {
   "cell_type": "code",
   "execution_count": 29,
   "metadata": {
    "ExecuteTime": {
     "end_time": "2020-12-18T09:32:09.450875Z",
     "start_time": "2020-12-18T09:32:09.441875Z"
    }
   },
   "outputs": [],
   "source": [
    "dt_clf = DecisionTreeClassifier(max_depth=3)\n",
    "dt_clf = dt_clf.fit(X_train, y_train)\n",
    "dt_prediction = dt_clf.predict(X_test)"
   ]
  },
  {
   "cell_type": "markdown",
   "metadata": {},
   "source": [
    "# 7. 의사결정나무 시각화"
   ]
  },
  {
   "cell_type": "code",
   "execution_count": 30,
   "metadata": {
    "ExecuteTime": {
     "end_time": "2020-12-18T09:32:11.051873Z",
     "start_time": "2020-12-18T09:32:11.048874Z"
    }
   },
   "outputs": [],
   "source": [
    "feature_names = df.columns.tolist()\n",
    "feature_names = feature_names[1:5]\n",
    "target_name = np.array(['0', '1'])"
   ]
  },
  {
   "cell_type": "code",
   "execution_count": 31,
   "metadata": {
    "ExecuteTime": {
     "end_time": "2020-12-18T09:37:59.601174Z",
     "start_time": "2020-12-18T09:37:58.685189Z"
    }
   },
   "outputs": [
    {
     "data": {
      "image/png": "[encoded data removed]",
      "text/plain": [
       "<IPython.core.display.Image object>"
      ]
     },
     "execution_count": 31,
     "metadata": {},
     "output_type": "execute_result"
    }
   ],
   "source": [
    "dt_dot_data = tree.export_graphviz(dt_clf, feature_names=feature_names, class_names=target_name, \n",
    "                                filled=True, rounded = True, special_characters = True)\n",
    "dt_graph = pydotplus.graph_from_dot_data(dt_dot_data)\n",
    "Image(dt_graph.create_png())"
   ]
  },
  {
   "cell_type": "markdown",
   "metadata": {},
   "source": [
    "graphviz와 관련된 에러가 발생할 경우 환경설정에 대한 문제일 가능성이 매우 높으므로 (부록으로 제공된 Graphviz 설치방법을 참조하여 진행한 경우에 한하여) 아래의 코드를 실행하고 위의 코드를 재실행하면 해결될 가능성이 높습니다. 만약 동일한 에러가 발생하는 경우 부록을 참조하세요."
   ]
  },
  {
   "cell_type": "code",
   "execution_count": 33,
   "metadata": {
    "ExecuteTime": {
     "end_time": "2020-12-18T09:32:28.557876Z",
     "start_time": "2020-12-18T09:32:28.553873Z"
    }
   },
   "outputs": [],
   "source": [
    "# 위의 코드에서 에러가 발생하지 않은 경우에는 이 라인을 실행할 필요가 없습니다.\n",
    "import os\n",
    "os.environ['PATH'] += os.pathsep + \"C:/Program Files/Graphviz 2.44.1/bin/\""
   ]
  },
  {
   "cell_type": "markdown",
   "metadata": {},
   "source": [
    "# 8. 결과 분석 및 해석"
   ]
  },
  {
   "cell_type": "code",
   "execution_count": 32,
   "metadata": {},
   "outputs": [],
   "source": [
    "from sklearn.metrics import accuracy_score, precision_score, recall_score, roc_auc_score\n",
    "from sklearn.metrics import f1_score, confusion_matrix, precision_recall_curve, roc_curve"
   ]
  },
  {
   "cell_type": "code",
   "execution_count": 33,
   "metadata": {
    "ExecuteTime": {
     "end_time": "2020-12-18T09:33:12.888877Z",
     "start_time": "2020-12-18T09:33:12.873889Z"
    }
   },
   "outputs": [
    {
     "name": "stdout",
     "output_type": "stream",
     "text": [
      "오차 행렬\n",
      "[[ 237  196]\n",
      " [   1 2381]]\n",
      "정확도 : 0.9300, 정밀도:  0.9239, 재현율:  0.9996, F1 :  0.9603,     AUC:  0.7735\n"
     ]
    }
   ],
   "source": [
    "def get_clf_eval(y_test=None, pred=None):\n",
    "    confusion = confusion_matrix(y_test, pred)\n",
    "    accuracy = accuracy_score(y_test, pred)\n",
    "    precision = precision_score(y_test,pred)\n",
    "    recall = recall_score(y_test, pred)\n",
    "    f1 = f1_score(y_test, pred)\n",
    "    roc_auc = roc_auc_score(y_test, pred)\n",
    "    print('오차 행렬')\n",
    "    print(confusion)\n",
    "    print('정확도 :{0: .4f}, 정밀도: {1: .4f}, 재현율: {2: .4f}, F1 : {3: .4f}, \\\n",
    "    AUC: {4: .4f}'.format(accuracy, precision, recall, f1, roc_auc))\n",
    "\n",
    "get_clf_eval(y_test, dt_prediction)"
   ]
  },
  {
   "cell_type": "code",
   "execution_count": null,
   "metadata": {},
   "outputs": [],
   "source": []
  }
 ],
 "metadata": {
  "kernelspec": {
   "display_name": "Python 3",
   "language": "python",
   "name": "python3"
  },
  "language_info": {
   "codemirror_mode": {
    "name": "ipython",
    "version": 3
   },
   "file_extension": ".py",
   "mimetype": "text/x-python",
   "name": "python",
   "nbconvert_exporter": "python",
   "pygments_lexer": "ipython3",
   "version": "3.8.8"
  },
  "toc": {
   "base_numbering": 1,
   "nav_menu": {},
   "number_sections": true,
   "sideBar": true,
   "skip_h1_title": false,
   "title_cell": "Table of Contents",
   "title_sidebar": "Contents",
   "toc_cell": false,
   "toc_position": {},
   "toc_section_display": true,
   "toc_window_display": true
  }
 },
 "nbformat": 4,
 "nbformat_minor": 4
}
